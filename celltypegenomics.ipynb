{
 "cells": [
  {
   "cell_type": "code",
   "execution_count": 1,
   "metadata": {},
   "outputs": [
    {
     "name": "stdout",
     "output_type": "stream",
     "text": [
      "Collecting celltypegenomics\n",
      "  Downloading celltypegenomics-0.0.1-py3-none-any.whl.metadata (901 bytes)\n",
      "Downloading celltypegenomics-0.0.1-py3-none-any.whl (324 kB)\n",
      "\u001b[2K   \u001b[90m━━━━━━━━━━━━━━━━━━━━━━━━━━━━━━━━━━━━━━━━\u001b[0m \u001b[32m324.8/324.8 kB\u001b[0m \u001b[31m8.8 MB/s\u001b[0m eta \u001b[36m0:00:00\u001b[0m:00:01\u001b[0m\n",
      "\u001b[?25hInstalling collected packages: celltypegenomics\n",
      "Successfully installed celltypegenomics-0.0.1\n",
      "Note: you may need to restart the kernel to use updated packages.\n"
     ]
    }
   ],
   "source": [
    "%pip install celltypegenomics"
   ]
  },
  {
   "cell_type": "code",
   "execution_count": 9,
   "metadata": {},
   "outputs": [
    {
     "data": {
      "text/plain": [
       "{'__name__': 'CellTypeGenomics',\n",
       " '__doc__': None,\n",
       " '__package__': 'CellTypeGenomics',\n",
       " '__loader__': <_frozen_importlib_external.SourceFileLoader at 0x7f57481a3fe0>,\n",
       " '__spec__': ModuleSpec(name='CellTypeGenomics', loader=<_frozen_importlib_external.SourceFileLoader object at 0x7f57481a3fe0>, origin='/home/gitpod/.pyenv/versions/3.12.0/lib/python3.12/site-packages/CellTypeGenomics/__init__.py', submodule_search_locations=['/home/gitpod/.pyenv/versions/3.12.0/lib/python3.12/site-packages/CellTypeGenomics']),\n",
       " '__path__': ['/home/gitpod/.pyenv/versions/3.12.0/lib/python3.12/site-packages/CellTypeGenomics'],\n",
       " '__file__': '/home/gitpod/.pyenv/versions/3.12.0/lib/python3.12/site-packages/CellTypeGenomics/__init__.py',\n",
       " '__cached__': '/home/gitpod/.pyenv/versions/3.12.0/lib/python3.12/site-packages/CellTypeGenomics/__pycache__/__init__.cpython-312.pyc',\n",
       " '__builtins__': {'__name__': 'builtins',\n",
       "  '__doc__': \"Built-in functions, types, exceptions, and other objects.\\n\\nThis module provides direct access to all 'built-in'\\nidentifiers of Python; for example, builtins.len is\\nthe full name for the built-in function len().\\n\\nThis module is not normally accessed explicitly by most\\napplications, but can be useful in modules that provide\\nobjects with the same name as a built-in value, but in\\nwhich the built-in of that name is also needed.\",\n",
       "  '__package__': '',\n",
       "  '__loader__': _frozen_importlib.BuiltinImporter,\n",
       "  '__spec__': ModuleSpec(name='builtins', loader=<class '_frozen_importlib.BuiltinImporter'>, origin='built-in'),\n",
       "  '__build_class__': <function __build_class__>,\n",
       "  '__import__': <function __import__(name, globals=None, locals=None, fromlist=(), level=0)>,\n",
       "  'abs': <function abs(x, /)>,\n",
       "  'all': <function all(iterable, /)>,\n",
       "  'any': <function any(iterable, /)>,\n",
       "  'ascii': <function ascii(obj, /)>,\n",
       "  'bin': <function bin(number, /)>,\n",
       "  'breakpoint': <function breakpoint>,\n",
       "  'callable': <function callable(obj, /)>,\n",
       "  'chr': <function chr(i, /)>,\n",
       "  'compile': <function compile(source, filename, mode, flags=0, dont_inherit=False, optimize=-1, *, _feature_version=-1)>,\n",
       "  'delattr': <function delattr(obj, name, /)>,\n",
       "  'dir': <function dir>,\n",
       "  'divmod': <function divmod(x, y, /)>,\n",
       "  'eval': <function eval(source, globals=None, locals=None, /)>,\n",
       "  'exec': <function exec(source, globals=None, locals=None, /, *, closure=None)>,\n",
       "  'format': <function format(value, format_spec='', /)>,\n",
       "  'getattr': <function getattr>,\n",
       "  'globals': <function globals()>,\n",
       "  'hasattr': <function hasattr(obj, name, /)>,\n",
       "  'hash': <function hash(obj, /)>,\n",
       "  'hex': <function hex(number, /)>,\n",
       "  'id': <function id(obj, /)>,\n",
       "  'input': <bound method Kernel.raw_input of <ipykernel.ipkernel.IPythonKernel object at 0x7f574bafe5d0>>,\n",
       "  'isinstance': <function isinstance(obj, class_or_tuple, /)>,\n",
       "  'issubclass': <function issubclass(cls, class_or_tuple, /)>,\n",
       "  'iter': <function iter>,\n",
       "  'aiter': <function aiter(async_iterable, /)>,\n",
       "  'len': <function len(obj, /)>,\n",
       "  'locals': <function locals()>,\n",
       "  'max': <function max>,\n",
       "  'min': <function min>,\n",
       "  'next': <function next>,\n",
       "  'anext': <function anext>,\n",
       "  'oct': <function oct(number, /)>,\n",
       "  'ord': <function ord(c, /)>,\n",
       "  'pow': <function pow(base, exp, mod=None)>,\n",
       "  'print': <function print(*args, sep=' ', end='\\n', file=None, flush=False)>,\n",
       "  'repr': <function repr(obj, /)>,\n",
       "  'round': <function round(number, ndigits=None)>,\n",
       "  'setattr': <function setattr(obj, name, value, /)>,\n",
       "  'sorted': <function sorted(iterable, /, *, key=None, reverse=False)>,\n",
       "  'sum': <function sum(iterable, /, start=0)>,\n",
       "  'vars': <function vars>,\n",
       "  'None': None,\n",
       "  'Ellipsis': Ellipsis,\n",
       "  'NotImplemented': NotImplemented,\n",
       "  'False': False,\n",
       "  'True': True,\n",
       "  'bool': bool,\n",
       "  'memoryview': memoryview,\n",
       "  'bytearray': bytearray,\n",
       "  'bytes': bytes,\n",
       "  'classmethod': classmethod,\n",
       "  'complex': complex,\n",
       "  'dict': dict,\n",
       "  'enumerate': enumerate,\n",
       "  'filter': filter,\n",
       "  'float': float,\n",
       "  'frozenset': frozenset,\n",
       "  'property': property,\n",
       "  'int': int,\n",
       "  'list': list,\n",
       "  'map': map,\n",
       "  'object': object,\n",
       "  'range': range,\n",
       "  'reversed': reversed,\n",
       "  'set': set,\n",
       "  'slice': slice,\n",
       "  'staticmethod': staticmethod,\n",
       "  'str': str,\n",
       "  'super': super,\n",
       "  'tuple': tuple,\n",
       "  'type': type,\n",
       "  'zip': zip,\n",
       "  '__debug__': True,\n",
       "  'BaseException': BaseException,\n",
       "  'BaseExceptionGroup': BaseExceptionGroup,\n",
       "  'Exception': Exception,\n",
       "  'GeneratorExit': GeneratorExit,\n",
       "  'KeyboardInterrupt': KeyboardInterrupt,\n",
       "  'SystemExit': SystemExit,\n",
       "  'ArithmeticError': ArithmeticError,\n",
       "  'AssertionError': AssertionError,\n",
       "  'AttributeError': AttributeError,\n",
       "  'BufferError': BufferError,\n",
       "  'EOFError': EOFError,\n",
       "  'ImportError': ImportError,\n",
       "  'LookupError': LookupError,\n",
       "  'MemoryError': MemoryError,\n",
       "  'NameError': NameError,\n",
       "  'OSError': OSError,\n",
       "  'ReferenceError': ReferenceError,\n",
       "  'RuntimeError': RuntimeError,\n",
       "  'StopAsyncIteration': StopAsyncIteration,\n",
       "  'StopIteration': StopIteration,\n",
       "  'SyntaxError': SyntaxError,\n",
       "  'SystemError': SystemError,\n",
       "  'TypeError': TypeError,\n",
       "  'ValueError': ValueError,\n",
       "  'Warning': Warning,\n",
       "  'FloatingPointError': FloatingPointError,\n",
       "  'OverflowError': OverflowError,\n",
       "  'ZeroDivisionError': ZeroDivisionError,\n",
       "  'BytesWarning': BytesWarning,\n",
       "  'DeprecationWarning': DeprecationWarning,\n",
       "  'EncodingWarning': EncodingWarning,\n",
       "  'FutureWarning': FutureWarning,\n",
       "  'ImportWarning': ImportWarning,\n",
       "  'PendingDeprecationWarning': PendingDeprecationWarning,\n",
       "  'ResourceWarning': ResourceWarning,\n",
       "  'RuntimeWarning': RuntimeWarning,\n",
       "  'SyntaxWarning': SyntaxWarning,\n",
       "  'UnicodeWarning': UnicodeWarning,\n",
       "  'UserWarning': UserWarning,\n",
       "  'BlockingIOError': BlockingIOError,\n",
       "  'ChildProcessError': ChildProcessError,\n",
       "  'ConnectionError': ConnectionError,\n",
       "  'FileExistsError': FileExistsError,\n",
       "  'FileNotFoundError': FileNotFoundError,\n",
       "  'InterruptedError': InterruptedError,\n",
       "  'IsADirectoryError': IsADirectoryError,\n",
       "  'NotADirectoryError': NotADirectoryError,\n",
       "  'PermissionError': PermissionError,\n",
       "  'ProcessLookupError': ProcessLookupError,\n",
       "  'TimeoutError': TimeoutError,\n",
       "  'IndentationError': IndentationError,\n",
       "  'IndexError': IndexError,\n",
       "  'KeyError': KeyError,\n",
       "  'ModuleNotFoundError': ModuleNotFoundError,\n",
       "  'NotImplementedError': NotImplementedError,\n",
       "  'RecursionError': RecursionError,\n",
       "  'UnboundLocalError': UnboundLocalError,\n",
       "  'UnicodeError': UnicodeError,\n",
       "  'BrokenPipeError': BrokenPipeError,\n",
       "  'ConnectionAbortedError': ConnectionAbortedError,\n",
       "  'ConnectionRefusedError': ConnectionRefusedError,\n",
       "  'ConnectionResetError': ConnectionResetError,\n",
       "  'TabError': TabError,\n",
       "  'UnicodeDecodeError': UnicodeDecodeError,\n",
       "  'UnicodeEncodeError': UnicodeEncodeError,\n",
       "  'UnicodeTranslateError': UnicodeTranslateError,\n",
       "  'ExceptionGroup': ExceptionGroup,\n",
       "  'EnvironmentError': OSError,\n",
       "  'IOError': OSError,\n",
       "  'open': <function _io.open(file, mode='r', buffering=-1, encoding=None, errors=None, newline=None, closefd=True, opener=None)>,\n",
       "  'copyright': Copyright (c) 2001-2023 Python Software Foundation.\n",
       "  All Rights Reserved.\n",
       "  \n",
       "  Copyright (c) 2000 BeOpen.com.\n",
       "  All Rights Reserved.\n",
       "  \n",
       "  Copyright (c) 1995-2001 Corporation for National Research Initiatives.\n",
       "  All Rights Reserved.\n",
       "  \n",
       "  Copyright (c) 1991-1995 Stichting Mathematisch Centrum, Amsterdam.\n",
       "  All Rights Reserved.,\n",
       "  'credits':     Thanks to CWI, CNRI, BeOpen.com, Zope Corporation and a cast of thousands\n",
       "      for supporting Python development.  See www.python.org for more information.,\n",
       "  'license': Type license() to see the full license text,\n",
       "  'help': Type help() for interactive help, or help(object) for help about object.,\n",
       "  'execfile': <function _pydev_bundle._pydev_execfile.execfile(file, glob=None, loc=None)>,\n",
       "  'runfile': <function _pydev_bundle.pydev_umd.runfile(filename, args=None, wdir=None, namespace=None)>,\n",
       "  '__IPYTHON__': True,\n",
       "  'display': <function IPython.core.display_functions.display(*objs, include=None, exclude=None, metadata=None, transient=None, display_id=None, raw=False, clear=False, **kwargs)>,\n",
       "  'get_ipython': <bound method InteractiveShell.get_ipython of <ipykernel.zmqshell.ZMQInteractiveShell object at 0x7f574bb3cd70>>}}"
      ]
     },
     "execution_count": 9,
     "metadata": {},
     "output_type": "execute_result"
    }
   ],
   "source": [
    "import CellTypeGenomics as ctg\n",
    "\n",
    "test_ensembl_ids = ['ENSG00000141510', 'ENSG00000284733']  # Example Ensembl IDs\n",
    "ctg.__dict__\n",
    "#print(celltypegenomics.ctg(test_ensembl_ids))"
   ]
  },
  {
   "cell_type": "code",
   "execution_count": 10,
   "metadata": {},
   "outputs": [
    {
     "data": {
      "text/plain": [
       "[ModuleInfo(module_finder=FileFinder('/home/gitpod/.pyenv/versions/3.12.0/lib/python3.12/site-packages/CellTypeGenomics'), name='celltypegenomics', ispkg=False)]"
      ]
     },
     "execution_count": 10,
     "metadata": {},
     "output_type": "execute_result"
    }
   ],
   "source": [
    "import pkgutil\n",
    "list(pkgutil.iter_modules(ctg.__path__))\n"
   ]
  },
  {
   "cell_type": "code",
   "execution_count": 13,
   "metadata": {},
   "outputs": [
    {
     "ename": "FileNotFoundError",
     "evalue": "[Errno 2] No such file or directory: 'json/cell_types_to_ensembl.json'",
     "output_type": "error",
     "traceback": [
      "\u001b[0;31m---------------------------------------------------------------------------\u001b[0m",
      "\u001b[0;31mFileNotFoundError\u001b[0m                         Traceback (most recent call last)",
      "\u001b[1;32m/workspace/CellTypeGenomics/celltypegenomics.ipynb Cell 4\u001b[0m line \u001b[0;36m5\n\u001b[1;32m      <a href='vscode-notebook-cell://ssh-remote%2B7b22686f73744e616d65223a227a79726f6e2d63656c6c7479706567656e6f6d6963732d6631677a687168723232632e7673732e676974706f642e696f222c2275736572223a227a79726f6e2d63656c6c7479706567656e6f6d6963732d6631677a68716872323263227d/workspace/CellTypeGenomics/celltypegenomics.ipynb#X13sdnNjb2RlLXJlbW90ZQ%3D%3D?line=1'>2</a>\u001b[0m \u001b[39mfrom\u001b[39;00m \u001b[39mCellTypeGenomics\u001b[39;00m \u001b[39mimport\u001b[39;00m celltypegenomics \u001b[39mas\u001b[39;00m ctg\n\u001b[1;32m      <a href='vscode-notebook-cell://ssh-remote%2B7b22686f73744e616d65223a227a79726f6e2d63656c6c7479706567656e6f6d6963732d6631677a687168723232632e7673732e676974706f642e696f222c2275736572223a227a79726f6e2d63656c6c7479706567656e6f6d6963732d6631677a68716872323263227d/workspace/CellTypeGenomics/celltypegenomics.ipynb#X13sdnNjb2RlLXJlbW90ZQ%3D%3D?line=3'>4</a>\u001b[0m test_ensembl_ids \u001b[39m=\u001b[39m [\u001b[39m'\u001b[39m\u001b[39mENSG00000141510\u001b[39m\u001b[39m'\u001b[39m, \u001b[39m'\u001b[39m\u001b[39mENSG00000284733\u001b[39m\u001b[39m'\u001b[39m]  \u001b[39m# Example Ensembl IDs\u001b[39;00m\n\u001b[0;32m----> <a href='vscode-notebook-cell://ssh-remote%2B7b22686f73744e616d65223a227a79726f6e2d63656c6c7479706567656e6f6d6963732d6631677a687168723232632e7673732e676974706f642e696f222c2275736572223a227a79726f6e2d63656c6c7479706567656e6f6d6963732d6631677a68716872323263227d/workspace/CellTypeGenomics/celltypegenomics.ipynb#X13sdnNjb2RlLXJlbW90ZQ%3D%3D?line=4'>5</a>\u001b[0m result \u001b[39m=\u001b[39m ctg\u001b[39m.\u001b[39;49mcelltypegenomics(test_ensembl_ids)\n\u001b[1;32m      <a href='vscode-notebook-cell://ssh-remote%2B7b22686f73744e616d65223a227a79726f6e2d63656c6c7479706567656e6f6d6963732d6631677a687168723232632e7673732e676974706f642e696f222c2275736572223a227a79726f6e2d63656c6c7479706567656e6f6d6963732d6631677a68716872323263227d/workspace/CellTypeGenomics/celltypegenomics.ipynb#X13sdnNjb2RlLXJlbW90ZQ%3D%3D?line=5'>6</a>\u001b[0m \u001b[39mprint\u001b[39m(result)\n",
      "File \u001b[0;32m~/.pyenv/versions/3.12.0/lib/python3.12/site-packages/CellTypeGenomics/celltypegenomics.py:10\u001b[0m, in \u001b[0;36mcelltypegenomics\u001b[0;34m(ensembl_ids)\u001b[0m\n\u001b[1;32m      8\u001b[0m \u001b[39mdef\u001b[39;00m \u001b[39mcelltypegenomics\u001b[39m(ensembl_ids):\n\u001b[1;32m      9\u001b[0m     \u001b[39m# Read necessary JSON files\u001b[39;00m\n\u001b[0;32m---> 10\u001b[0m     \u001b[39mwith\u001b[39;00m \u001b[39mopen\u001b[39;49m(\u001b[39m'\u001b[39;49m\u001b[39mjson/cell_types_to_ensembl.json\u001b[39;49m\u001b[39m'\u001b[39;49m, \u001b[39m'\u001b[39;49m\u001b[39mr\u001b[39;49m\u001b[39m'\u001b[39;49m) \u001b[39mas\u001b[39;00m f:\n\u001b[1;32m     11\u001b[0m         cell_types_to_ensembl \u001b[39m=\u001b[39m json\u001b[39m.\u001b[39mload(f)\n\u001b[1;32m     12\u001b[0m     \u001b[39mwith\u001b[39;00m \u001b[39mopen\u001b[39m(\u001b[39m'\u001b[39m\u001b[39mjson/protein_atlas_ensembl_ids.json\u001b[39m\u001b[39m'\u001b[39m, \u001b[39m'\u001b[39m\u001b[39mr\u001b[39m\u001b[39m'\u001b[39m) \u001b[39mas\u001b[39;00m f:\n",
      "\u001b[0;31mFileNotFoundError\u001b[0m: [Errno 2] No such file or directory: 'json/cell_types_to_ensembl.json'"
     ]
    }
   ],
   "source": [
    "#import CellTypeGenomics as ctg\n",
    "#from CellTypeGenomics import celltypegenomics as ctg\n",
    "import CellTypeGenomics as ctg\n",
    "\n",
    "test_ensembl_ids = ['ENSG00000141510', 'ENSG00000284733']  # Example Ensembl IDs\n",
    "result = ctg.celltypegenomics(test_ensembl_ids)\n",
    "print(result)\n"
   ]
  },
  {
   "cell_type": "code",
   "execution_count": 12,
   "metadata": {},
   "outputs": [
    {
     "data": {
      "text/plain": [
       "['__builtins__',\n",
       " '__cached__',\n",
       " '__doc__',\n",
       " '__file__',\n",
       " '__loader__',\n",
       " '__name__',\n",
       " '__package__',\n",
       " '__path__',\n",
       " '__spec__']"
      ]
     },
     "execution_count": 12,
     "metadata": {},
     "output_type": "execute_result"
    }
   ],
   "source": [
    "dir(ctg)\n"
   ]
  },
  {
   "cell_type": "code",
   "execution_count": 23,
   "metadata": {},
   "outputs": [
    {
     "ename": "FileNotFoundError",
     "evalue": "[Errno 2] No such file or directory: 'json/cell_types_to_ensembl.json'",
     "output_type": "error",
     "traceback": [
      "\u001b[0;31m---------------------------------------------------------------------------\u001b[0m",
      "\u001b[0;31mFileNotFoundError\u001b[0m                         Traceback (most recent call last)",
      "\u001b[1;32m/workspace/CellTypeGenomics/celltypegenomics.ipynb Cell 6\u001b[0m line \u001b[0;36m7\n\u001b[1;32m      <a href='vscode-notebook-cell://ssh-remote%2B7b22686f73744e616d65223a227a79726f6e2d63656c6c7479706567656e6f6d6963732d6631677a687168723232632e7673732e676974706f642e696f222c2275736572223a227a79726f6e2d63656c6c7479706567656e6f6d6963732d6631677a68716872323263227d/workspace/CellTypeGenomics/celltypegenomics.ipynb#X15sdnNjb2RlLXJlbW90ZQ%3D%3D?line=3'>4</a>\u001b[0m \u001b[39mfrom\u001b[39;00m \u001b[39mCellTypeGenomics\u001b[39;00m \u001b[39mimport\u001b[39;00m celltypegenomics \u001b[39mas\u001b[39;00m ctg \n\u001b[1;32m      <a href='vscode-notebook-cell://ssh-remote%2B7b22686f73744e616d65223a227a79726f6e2d63656c6c7479706567656e6f6d6963732d6631677a687168723232632e7673732e676974706f642e696f222c2275736572223a227a79726f6e2d63656c6c7479706567656e6f6d6963732d6631677a68716872323263227d/workspace/CellTypeGenomics/celltypegenomics.ipynb#X15sdnNjb2RlLXJlbW90ZQ%3D%3D?line=5'>6</a>\u001b[0m test_ensembl_ids \u001b[39m=\u001b[39m [\u001b[39m'\u001b[39m\u001b[39mENSG00000141510\u001b[39m\u001b[39m'\u001b[39m, \u001b[39m'\u001b[39m\u001b[39mENSG00000284733\u001b[39m\u001b[39m'\u001b[39m]  \u001b[39m# Example Ensembl IDs\u001b[39;00m\n\u001b[0;32m----> <a href='vscode-notebook-cell://ssh-remote%2B7b22686f73744e616d65223a227a79726f6e2d63656c6c7479706567656e6f6d6963732d6631677a687168723232632e7673732e676974706f642e696f222c2275736572223a227a79726f6e2d63656c6c7479706567656e6f6d6963732d6631677a68716872323263227d/workspace/CellTypeGenomics/celltypegenomics.ipynb#X15sdnNjb2RlLXJlbW90ZQ%3D%3D?line=6'>7</a>\u001b[0m result \u001b[39m=\u001b[39m ctg\u001b[39m.\u001b[39;49mcelltypegenomics(test_ensembl_ids)\n\u001b[1;32m      <a href='vscode-notebook-cell://ssh-remote%2B7b22686f73744e616d65223a227a79726f6e2d63656c6c7479706567656e6f6d6963732d6631677a687168723232632e7673732e676974706f642e696f222c2275736572223a227a79726f6e2d63656c6c7479706567656e6f6d6963732d6631677a68716872323263227d/workspace/CellTypeGenomics/celltypegenomics.ipynb#X15sdnNjb2RlLXJlbW90ZQ%3D%3D?line=7'>8</a>\u001b[0m \u001b[39mprint\u001b[39m(result)\n",
      "File \u001b[0;32m~/.pyenv/versions/3.12.0/lib/python3.12/site-packages/CellTypeGenomics/celltypegenomics.py:10\u001b[0m, in \u001b[0;36mcelltypegenomics\u001b[0;34m(ensembl_ids)\u001b[0m\n\u001b[1;32m      8\u001b[0m \u001b[39mdef\u001b[39;00m \u001b[39mcelltypegenomics\u001b[39m(ensembl_ids):\n\u001b[1;32m      9\u001b[0m     \u001b[39m# Read necessary JSON files\u001b[39;00m\n\u001b[0;32m---> 10\u001b[0m     \u001b[39mwith\u001b[39;00m \u001b[39mopen\u001b[39;49m(\u001b[39m'\u001b[39;49m\u001b[39mjson/cell_types_to_ensembl.json\u001b[39;49m\u001b[39m'\u001b[39;49m, \u001b[39m'\u001b[39;49m\u001b[39mr\u001b[39;49m\u001b[39m'\u001b[39;49m) \u001b[39mas\u001b[39;00m f:\n\u001b[1;32m     11\u001b[0m         cell_types_to_ensembl \u001b[39m=\u001b[39m json\u001b[39m.\u001b[39mload(f)\n\u001b[1;32m     12\u001b[0m     \u001b[39mwith\u001b[39;00m \u001b[39mopen\u001b[39m(\u001b[39m'\u001b[39m\u001b[39mjson/protein_atlas_ensembl_ids.json\u001b[39m\u001b[39m'\u001b[39m, \u001b[39m'\u001b[39m\u001b[39mr\u001b[39m\u001b[39m'\u001b[39m) \u001b[39mas\u001b[39;00m f:\n",
      "\u001b[0;31mFileNotFoundError\u001b[0m: [Errno 2] No such file or directory: 'json/cell_types_to_ensembl.json'"
     ]
    }
   ],
   "source": [
    "#import CellTypeGenomics as ctg\n",
    "#from CellTypeGenomics import celltypegenomics as ctg\n",
    "#from CellTypeGenomics import celltypegenomics\n",
    "from CellTypeGenomics import celltypegenomics as ctg \n",
    "\n",
    "test_ensembl_ids = ['ENSG00000141510', 'ENSG00000284733']  # Example Ensembl IDs\n",
    "result = ctg.celltypegenomics(test_ensembl_ids)\n",
    "print(result)\n"
   ]
  },
  {
   "cell_type": "code",
   "execution_count": 1,
   "metadata": {},
   "outputs": [
    {
     "name": "stdout",
     "output_type": "stream",
     "text": [
      "Collecting celltypegenomics==0.0.2\n",
      "  Downloading celltypegenomics-0.0.2-py3-none-any.whl.metadata (971 bytes)\n",
      "Requirement already satisfied: pandas in /workspace/.pyenv_mirror/user/current/lib/python3.12/site-packages (from celltypegenomics==0.0.2) (2.1.2)\n",
      "Requirement already satisfied: scipy in /workspace/.pyenv_mirror/user/current/lib/python3.12/site-packages (from celltypegenomics==0.0.2) (1.11.3)\n",
      "Requirement already satisfied: statsmodels in /workspace/.pyenv_mirror/user/current/lib/python3.12/site-packages (from celltypegenomics==0.0.2) (0.14.0)\n",
      "Requirement already satisfied: numpy<2,>=1.26.0 in /workspace/.pyenv_mirror/user/current/lib/python3.12/site-packages (from pandas->celltypegenomics==0.0.2) (1.26.1)\n",
      "Requirement already satisfied: python-dateutil>=2.8.2 in /home/gitpod/.pyenv/versions/3.12.0/lib/python3.12/site-packages (from pandas->celltypegenomics==0.0.2) (2.8.2)\n",
      "Requirement already satisfied: pytz>=2020.1 in /workspace/.pyenv_mirror/user/current/lib/python3.12/site-packages (from pandas->celltypegenomics==0.0.2) (2023.3.post1)\n",
      "Requirement already satisfied: tzdata>=2022.1 in /workspace/.pyenv_mirror/user/current/lib/python3.12/site-packages (from pandas->celltypegenomics==0.0.2) (2023.3)\n",
      "Requirement already satisfied: patsy>=0.5.2 in /workspace/.pyenv_mirror/user/current/lib/python3.12/site-packages (from statsmodels->celltypegenomics==0.0.2) (0.5.3)\n",
      "Requirement already satisfied: packaging>=21.3 in /home/gitpod/.pyenv/versions/3.12.0/lib/python3.12/site-packages (from statsmodels->celltypegenomics==0.0.2) (23.2)\n",
      "Requirement already satisfied: six in /home/gitpod/.pyenv/versions/3.12.0/lib/python3.12/site-packages (from patsy>=0.5.2->statsmodels->celltypegenomics==0.0.2) (1.16.0)\n",
      "Downloading celltypegenomics-0.0.2-py3-none-any.whl (324 kB)\n",
      "\u001b[2K   \u001b[90m━━━━━━━━━━━━━━━━━━━━━━━━━━━━━━━━━━━━━━━━\u001b[0m \u001b[32m324.8/324.8 kB\u001b[0m \u001b[31m9.5 MB/s\u001b[0m eta \u001b[36m0:00:00\u001b[0m\n",
      "\u001b[?25hInstalling collected packages: celltypegenomics\n",
      "  Attempting uninstall: celltypegenomics\n",
      "    Found existing installation: CellTypeGenomics 0.0.1\n",
      "    Uninstalling CellTypeGenomics-0.0.1:\n",
      "      Successfully uninstalled CellTypeGenomics-0.0.1\n",
      "Successfully installed celltypegenomics-0.0.2\n",
      "Note: you may need to restart the kernel to use updated packages.\n"
     ]
    }
   ],
   "source": [
    "%pip install celltypegenomics==0.0.2"
   ]
  },
  {
   "cell_type": "code",
   "execution_count": 8,
   "metadata": {},
   "outputs": [
    {
     "name": "stdout",
     "output_type": "stream",
     "text": [
      "                            p_value  ...  adjusted_p_value\n",
      "Late spermatids                 1.0  ...               1.0\n",
      "naive CD4 T-cell                1.0  ...               1.0\n",
      "T-cells                         1.0  ...               1.0\n",
      "adipose tissue                  1.0  ...               1.0\n",
      "breast                          1.0  ...               1.0\n",
      "...                             ...  ...               ...\n",
      "memory CD8 T-cell               1.0  ...               1.0\n",
      "naive CD8 T-cell                1.0  ...               1.0\n",
      "prostate                        1.0  ...               1.0\n",
      "Salivary duct cells             1.0  ...               1.0\n",
      "Breast myoepithelial cells      1.0  ...               1.0\n",
      "\n",
      "[135 rows x 7 columns]\n"
     ]
    }
   ],
   "source": [
    "from celltypegenomics import celltypegenomics as ctg \n",
    "\n",
    "test_ensembl_ids = ['ENSG00000141510', 'ENSG00000284733']  # Example Ensembl IDs\n",
    "result = ctg.celltypefishertest(test_ensembl_ids)\n",
    "print(result)\n"
   ]
  },
  {
   "cell_type": "code",
   "execution_count": 4,
   "metadata": {},
   "outputs": [],
   "source": [
    "import celltypegenomics"
   ]
  },
  {
   "cell_type": "code",
   "execution_count": 7,
   "metadata": {},
   "outputs": [
    {
     "data": {
      "text/plain": [
       "['__annotations__',\n",
       " '__builtins__',\n",
       " '__call__',\n",
       " '__class__',\n",
       " '__closure__',\n",
       " '__code__',\n",
       " '__defaults__',\n",
       " '__delattr__',\n",
       " '__dict__',\n",
       " '__dir__',\n",
       " '__doc__',\n",
       " '__eq__',\n",
       " '__format__',\n",
       " '__ge__',\n",
       " '__get__',\n",
       " '__getattribute__',\n",
       " '__getstate__',\n",
       " '__globals__',\n",
       " '__gt__',\n",
       " '__hash__',\n",
       " '__init__',\n",
       " '__init_subclass__',\n",
       " '__kwdefaults__',\n",
       " '__le__',\n",
       " '__lt__',\n",
       " '__module__',\n",
       " '__name__',\n",
       " '__ne__',\n",
       " '__new__',\n",
       " '__qualname__',\n",
       " '__reduce__',\n",
       " '__reduce_ex__',\n",
       " '__repr__',\n",
       " '__setattr__',\n",
       " '__sizeof__',\n",
       " '__str__',\n",
       " '__subclasshook__',\n",
       " '__type_params__']"
      ]
     },
     "execution_count": 7,
     "metadata": {},
     "output_type": "execute_result"
    }
   ],
   "source": [
    "dir(celltypegenomics.celltypegenomics.celltypefishertest)"
   ]
  },
  {
   "cell_type": "code",
   "execution_count": 1,
   "metadata": {},
   "outputs": [
    {
     "name": "stdout",
     "output_type": "stream",
     "text": [
      "Collecting celltypegenomics==0.0.3\n",
      "  Downloading celltypegenomics-0.0.3-py3-none-any.whl.metadata (971 bytes)\n",
      "Requirement already satisfied: pandas in /workspace/.pyenv_mirror/user/current/lib/python3.12/site-packages (from celltypegenomics==0.0.3) (2.1.2)\n",
      "Requirement already satisfied: scipy in /workspace/.pyenv_mirror/user/current/lib/python3.12/site-packages (from celltypegenomics==0.0.3) (1.11.3)\n",
      "Requirement already satisfied: statsmodels in /workspace/.pyenv_mirror/user/current/lib/python3.12/site-packages (from celltypegenomics==0.0.3) (0.14.0)\n",
      "Requirement already satisfied: numpy<2,>=1.26.0 in /workspace/.pyenv_mirror/user/current/lib/python3.12/site-packages (from pandas->celltypegenomics==0.0.3) (1.26.1)\n",
      "Requirement already satisfied: python-dateutil>=2.8.2 in /home/gitpod/.pyenv/versions/3.12.0/lib/python3.12/site-packages (from pandas->celltypegenomics==0.0.3) (2.8.2)\n",
      "Requirement already satisfied: pytz>=2020.1 in /workspace/.pyenv_mirror/user/current/lib/python3.12/site-packages (from pandas->celltypegenomics==0.0.3) (2023.3.post1)\n",
      "Requirement already satisfied: tzdata>=2022.1 in /workspace/.pyenv_mirror/user/current/lib/python3.12/site-packages (from pandas->celltypegenomics==0.0.3) (2023.3)\n",
      "Requirement already satisfied: patsy>=0.5.2 in /workspace/.pyenv_mirror/user/current/lib/python3.12/site-packages (from statsmodels->celltypegenomics==0.0.3) (0.5.3)\n",
      "Requirement already satisfied: packaging>=21.3 in /home/gitpod/.pyenv/versions/3.12.0/lib/python3.12/site-packages (from statsmodels->celltypegenomics==0.0.3) (23.2)\n",
      "Requirement already satisfied: six in /home/gitpod/.pyenv/versions/3.12.0/lib/python3.12/site-packages (from patsy>=0.5.2->statsmodels->celltypegenomics==0.0.3) (1.16.0)\n",
      "Downloading celltypegenomics-0.0.3-py3-none-any.whl (324 kB)\n",
      "\u001b[2K   \u001b[90m━━━━━━━━━━━━━━━━━━━━━━━━━━━━━━━━━━━━━━━━\u001b[0m \u001b[32m324.9/324.9 kB\u001b[0m \u001b[31m7.6 MB/s\u001b[0m eta \u001b[36m0:00:00\u001b[0ma \u001b[36m0:00:01\u001b[0m\n",
      "\u001b[?25hInstalling collected packages: celltypegenomics\n",
      "  Attempting uninstall: celltypegenomics\n",
      "    Found existing installation: celltypegenomics 0.0.2\n",
      "    Uninstalling celltypegenomics-0.0.2:\n",
      "      Successfully uninstalled celltypegenomics-0.0.2\n",
      "Successfully installed celltypegenomics-0.0.3\n",
      "Note: you may need to restart the kernel to use updated packages.\n"
     ]
    }
   ],
   "source": [
    "%pip install celltypegenomics==0.0.3"
   ]
  },
  {
   "cell_type": "code",
   "execution_count": 2,
   "metadata": {},
   "outputs": [
    {
     "name": "stdout",
     "output_type": "stream",
     "text": [
      "                            p_value  odds_ratio  count_in_both  \\\n",
      "Late spermatids                 1.0         0.0              0   \n",
      "naive CD4 T-cell                1.0         0.0              0   \n",
      "T-cells                         1.0         0.0              0   \n",
      "adipose tissue                  1.0         0.0              0   \n",
      "breast                          1.0         0.0              0   \n",
      "...                             ...         ...            ...   \n",
      "memory CD8 T-cell               1.0         0.0              0   \n",
      "naive CD8 T-cell                1.0         0.0              0   \n",
      "prostate                        1.0         0.0              0   \n",
      "Salivary duct cells             1.0         0.0              0   \n",
      "Breast myoepithelial cells      1.0         0.0              0   \n",
      "\n",
      "                            count_in_genelist_not_cell_type  \\\n",
      "Late spermatids                                           2   \n",
      "naive CD4 T-cell                                          2   \n",
      "T-cells                                                   2   \n",
      "adipose tissue                                            2   \n",
      "breast                                                    2   \n",
      "...                                                     ...   \n",
      "memory CD8 T-cell                                         2   \n",
      "naive CD8 T-cell                                          2   \n",
      "prostate                                                  2   \n",
      "Salivary duct cells                                       2   \n",
      "Breast myoepithelial cells                                2   \n",
      "\n",
      "                            count_in_cell_type_not_genelist  count_in_neither  \\\n",
      "Late spermatids                                        2978             17182   \n",
      "naive CD4 T-cell                                        289             19871   \n",
      "T-cells                                                1189             18971   \n",
      "adipose tissue                                          233             19927   \n",
      "breast                                                  132             20028   \n",
      "...                                                     ...               ...   \n",
      "memory CD8 T-cell                                       248             19912   \n",
      "naive CD8 T-cell                                        278             19882   \n",
      "prostate                                                126             20034   \n",
      "Salivary duct cells                                     126             20034   \n",
      "Breast myoepithelial cells                              170             19990   \n",
      "\n",
      "                            adjusted_p_value  \n",
      "Late spermatids                          1.0  \n",
      "naive CD4 T-cell                         1.0  \n",
      "T-cells                                  1.0  \n",
      "adipose tissue                           1.0  \n",
      "breast                                   1.0  \n",
      "...                                      ...  \n",
      "memory CD8 T-cell                        1.0  \n",
      "naive CD8 T-cell                         1.0  \n",
      "prostate                                 1.0  \n",
      "Salivary duct cells                      1.0  \n",
      "Breast myoepithelial cells               1.0  \n",
      "\n",
      "[135 rows x 7 columns]\n"
     ]
    }
   ],
   "source": [
    "import celltypegenomics as ctg \n",
    "\n",
    "test_ensembl_ids = ['ENSG00000141510', 'ENSG00000284733']  # Example Ensembl IDs\n",
    "result = ctg.celltypefishertest(test_ensembl_ids)\n",
    "print(result)\n"
   ]
  },
  {
   "cell_type": "code",
   "execution_count": null,
   "metadata": {},
   "outputs": [],
   "source": [
    "%pip install celltypegenomics"
   ]
  }
 ],
 "metadata": {
  "kernelspec": {
   "display_name": "Python 3",
   "language": "python",
   "name": "python3"
  },
  "language_info": {
   "codemirror_mode": {
    "name": "ipython",
    "version": 3
   },
   "file_extension": ".py",
   "mimetype": "text/x-python",
   "name": "python",
   "nbconvert_exporter": "python",
   "pygments_lexer": "ipython3",
   "version": "3.12.0"
  },
  "orig_nbformat": 4
 },
 "nbformat": 4,
 "nbformat_minor": 2
}
